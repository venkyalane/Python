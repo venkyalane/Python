{
 "cells": [
  {
   "cell_type": "code",
   "execution_count": 1,
   "id": "8ba5f675-f0a7-4d4d-8cc4-e5356f6abb55",
   "metadata": {},
   "outputs": [],
   "source": [
    "a = list(range(1,101))"
   ]
  },
  {
   "cell_type": "code",
   "execution_count": 2,
   "id": "45fcb91e-7720-4530-9887-19ce681a5618",
   "metadata": {},
   "outputs": [],
   "source": [
    "filtered_data = list(filter(lambda n : (n%2==0),a))"
   ]
  },
  {
   "cell_type": "code",
   "execution_count": 3,
   "id": "aafa6dee-db1e-4cc8-8074-418ac38dc287",
   "metadata": {},
   "outputs": [],
   "source": [
    "maped_data = list(map(lambda n : (n+1), filtered_data))"
   ]
  },
  {
   "cell_type": "code",
   "execution_count": 5,
   "id": "153c1987-a777-4231-bc65-0dc48f5f143c",
   "metadata": {},
   "outputs": [],
   "source": [
    "from functools import reduce\n",
    "reduced_data = reduce(lambda n,m: n+m ,maped_data)"
   ]
  },
  {
   "cell_type": "code",
   "execution_count": 6,
   "id": "2557720e-26c4-444a-a4d8-50657c1b3167",
   "metadata": {},
   "outputs": [
    {
     "name": "stdout",
     "output_type": "stream",
     "text": [
      "raw data:\n",
      " [1, 2, 3, 4, 5, 6, 7, 8, 9, 10, 11, 12, 13, 14, 15, 16, 17, 18, 19, 20, 21, 22, 23, 24, 25, 26, 27, 28, 29, 30, 31, 32, 33, 34, 35, 36, 37, 38, 39, 40, 41, 42, 43, 44, 45, 46, 47, 48, 49, 50, 51, 52, 53, 54, 55, 56, 57, 58, 59, 60, 61, 62, 63, 64, 65, 66, 67, 68, 69, 70, 71, 72, 73, 74, 75, 76, 77, 78, 79, 80, 81, 82, 83, 84, 85, 86, 87, 88, 89, 90, 91, 92, 93, 94, 95, 96, 97, 98, 99, 100]\n"
     ]
    }
   ],
   "source": [
    "print(\"raw data:\\n\",a)"
   ]
  },
  {
   "cell_type": "code",
   "execution_count": 7,
   "id": "2e85cb2f-9faa-4878-8dfe-42fdacba53f5",
   "metadata": {},
   "outputs": [
    {
     "name": "stdout",
     "output_type": "stream",
     "text": [
      "Filtered Data: \n",
      " [2, 4, 6, 8, 10, 12, 14, 16, 18, 20, 22, 24, 26, 28, 30, 32, 34, 36, 38, 40, 42, 44, 46, 48, 50, 52, 54, 56, 58, 60, 62, 64, 66, 68, 70, 72, 74, 76, 78, 80, 82, 84, 86, 88, 90, 92, 94, 96, 98, 100]\n"
     ]
    }
   ],
   "source": [
    "print(\"Filtered Data: \\n\",filtered_data)"
   ]
  },
  {
   "cell_type": "code",
   "execution_count": 8,
   "id": "1dd80f3a-ad42-4c4b-935a-70db6ca9edc4",
   "metadata": {},
   "outputs": [
    {
     "name": "stdout",
     "output_type": "stream",
     "text": [
      "Maped Data: \n",
      " [3, 5, 7, 9, 11, 13, 15, 17, 19, 21, 23, 25, 27, 29, 31, 33, 35, 37, 39, 41, 43, 45, 47, 49, 51, 53, 55, 57, 59, 61, 63, 65, 67, 69, 71, 73, 75, 77, 79, 81, 83, 85, 87, 89, 91, 93, 95, 97, 99, 101]\n"
     ]
    }
   ],
   "source": [
    "print(\"Maped Data: \\n\",maped_data)"
   ]
  },
  {
   "cell_type": "code",
   "execution_count": 9,
   "id": "467ae7c4-bebf-4e0a-9093-b7b8484f3ad8",
   "metadata": {},
   "outputs": [
    {
     "name": "stdout",
     "output_type": "stream",
     "text": [
      "Reduced Data: \n",
      " 2600\n"
     ]
    }
   ],
   "source": [
    "print(\"Reduced Data: \\n\", reduced_data)"
   ]
  },
  {
   "cell_type": "code",
   "execution_count": null,
   "id": "86136c78-59b6-4a7d-827b-b554232112c1",
   "metadata": {},
   "outputs": [],
   "source": []
  }
 ],
 "metadata": {
  "kernelspec": {
   "display_name": "Python 3 (ipykernel)",
   "language": "python",
   "name": "python3"
  },
  "language_info": {
   "codemirror_mode": {
    "name": "ipython",
    "version": 3
   },
   "file_extension": ".py",
   "mimetype": "text/x-python",
   "name": "python",
   "nbconvert_exporter": "python",
   "pygments_lexer": "ipython3",
   "version": "3.12.2"
  }
 },
 "nbformat": 4,
 "nbformat_minor": 5
}
